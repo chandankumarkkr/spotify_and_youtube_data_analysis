{
 "cells": [
  {
   "cell_type": "markdown",
   "id": "10da5e81",
   "metadata": {},
   "source": [
    "## Data Description\n",
    "Dataset of songs of various artist in the world and for each song is present:\n",
    "\n",
    "Several statistics of the music version on spotify, including the number of streams;\n",
    "Number of views of the official music video of the song on youtube.\n",
    "\n",
    "In this notebook we are going to analyze the data deeply and try to get some useful insights like **top artists,trending music** etc\n",
    "\n",
    "![](https://storage.googleapis.com/research-production/1/2022/04/RS033-Mostra-Blog-Post-Header_animation_NOlogo_800px.gif)"
   ]
  },
  {
   "cell_type": "markdown",
   "id": "abef47d1",
   "metadata": {},
   "source": [
    "## Importing the necessary libraries"
   ]
  },
  {
   "cell_type": "code",
   "execution_count": 1,
   "id": "4342012d",
   "metadata": {},
   "outputs": [],
   "source": [
    "import pandas as pd\n",
    "import numpy as np\n",
    "import matplotlib.pyplot as plt\n",
    "import seaborn as sns"
   ]
  },
  {
   "cell_type": "markdown",
   "id": "598843eb",
   "metadata": {},
   "source": [
    "### Load Dataset"
   ]
  },
  {
   "cell_type": "code",
   "execution_count": 3,
   "id": "b5a41eda",
   "metadata": {},
   "outputs": [],
   "source": [
    "df = pd.read_csv(r\"C:\\Users\\User\\Desktop\\Data Analysis\\Data Analysis project\\spotify and youtube data analysis\\Spotify_Youtube.csv\")"
   ]
  },
  {
   "cell_type": "code",
   "execution_count": 4,
   "id": "36f4fbc2",
   "metadata": {},
   "outputs": [
    {
     "data": {
      "text/html": [
       "<div>\n",
       "<style scoped>\n",
       "    .dataframe tbody tr th:only-of-type {\n",
       "        vertical-align: middle;\n",
       "    }\n",
       "\n",
       "    .dataframe tbody tr th {\n",
       "        vertical-align: top;\n",
       "    }\n",
       "\n",
       "    .dataframe thead th {\n",
       "        text-align: right;\n",
       "    }\n",
       "</style>\n",
       "<table border=\"1\" class=\"dataframe\">\n",
       "  <thead>\n",
       "    <tr style=\"text-align: right;\">\n",
       "      <th></th>\n",
       "      <th>Unnamed: 0</th>\n",
       "      <th>Artist</th>\n",
       "      <th>Url_spotify</th>\n",
       "      <th>Track</th>\n",
       "      <th>Album</th>\n",
       "      <th>Album_type</th>\n",
       "      <th>Uri</th>\n",
       "      <th>Danceability</th>\n",
       "      <th>Energy</th>\n",
       "      <th>Key</th>\n",
       "      <th>...</th>\n",
       "      <th>Url_youtube</th>\n",
       "      <th>Title</th>\n",
       "      <th>Channel</th>\n",
       "      <th>Views</th>\n",
       "      <th>Likes</th>\n",
       "      <th>Comments</th>\n",
       "      <th>Description</th>\n",
       "      <th>Licensed</th>\n",
       "      <th>official_video</th>\n",
       "      <th>Stream</th>\n",
       "    </tr>\n",
       "  </thead>\n",
       "  <tbody>\n",
       "    <tr>\n",
       "      <th>0</th>\n",
       "      <td>0</td>\n",
       "      <td>Gorillaz</td>\n",
       "      <td>https://open.spotify.com/artist/3AA28KZvwAUcZu...</td>\n",
       "      <td>Feel Good Inc.</td>\n",
       "      <td>Demon Days</td>\n",
       "      <td>album</td>\n",
       "      <td>spotify:track:0d28khcov6AiegSCpG5TuT</td>\n",
       "      <td>0.818</td>\n",
       "      <td>0.705</td>\n",
       "      <td>6.0</td>\n",
       "      <td>...</td>\n",
       "      <td>https://www.youtube.com/watch?v=HyHNuVaZJ-k</td>\n",
       "      <td>Gorillaz - Feel Good Inc. (Official Video)</td>\n",
       "      <td>Gorillaz</td>\n",
       "      <td>693555221.0</td>\n",
       "      <td>6220896.0</td>\n",
       "      <td>169907.0</td>\n",
       "      <td>Official HD Video for Gorillaz' fantastic trac...</td>\n",
       "      <td>True</td>\n",
       "      <td>True</td>\n",
       "      <td>1.040235e+09</td>\n",
       "    </tr>\n",
       "    <tr>\n",
       "      <th>1</th>\n",
       "      <td>1</td>\n",
       "      <td>Gorillaz</td>\n",
       "      <td>https://open.spotify.com/artist/3AA28KZvwAUcZu...</td>\n",
       "      <td>Rhinestone Eyes</td>\n",
       "      <td>Plastic Beach</td>\n",
       "      <td>album</td>\n",
       "      <td>spotify:track:1foMv2HQwfQ2vntFf9HFeG</td>\n",
       "      <td>0.676</td>\n",
       "      <td>0.703</td>\n",
       "      <td>8.0</td>\n",
       "      <td>...</td>\n",
       "      <td>https://www.youtube.com/watch?v=yYDmaexVHic</td>\n",
       "      <td>Gorillaz - Rhinestone Eyes [Storyboard Film] (...</td>\n",
       "      <td>Gorillaz</td>\n",
       "      <td>72011645.0</td>\n",
       "      <td>1079128.0</td>\n",
       "      <td>31003.0</td>\n",
       "      <td>The official video for Gorillaz - Rhinestone E...</td>\n",
       "      <td>True</td>\n",
       "      <td>True</td>\n",
       "      <td>3.100837e+08</td>\n",
       "    </tr>\n",
       "    <tr>\n",
       "      <th>2</th>\n",
       "      <td>2</td>\n",
       "      <td>Gorillaz</td>\n",
       "      <td>https://open.spotify.com/artist/3AA28KZvwAUcZu...</td>\n",
       "      <td>New Gold (feat. Tame Impala and Bootie Brown)</td>\n",
       "      <td>New Gold (feat. Tame Impala and Bootie Brown)</td>\n",
       "      <td>single</td>\n",
       "      <td>spotify:track:64dLd6rVqDLtkXFYrEUHIU</td>\n",
       "      <td>0.695</td>\n",
       "      <td>0.923</td>\n",
       "      <td>1.0</td>\n",
       "      <td>...</td>\n",
       "      <td>https://www.youtube.com/watch?v=qJa-VFwPpYA</td>\n",
       "      <td>Gorillaz - New Gold ft. Tame Impala &amp; Bootie B...</td>\n",
       "      <td>Gorillaz</td>\n",
       "      <td>8435055.0</td>\n",
       "      <td>282142.0</td>\n",
       "      <td>7399.0</td>\n",
       "      <td>Gorillaz - New Gold ft. Tame Impala &amp; Bootie B...</td>\n",
       "      <td>True</td>\n",
       "      <td>True</td>\n",
       "      <td>6.306347e+07</td>\n",
       "    </tr>\n",
       "    <tr>\n",
       "      <th>3</th>\n",
       "      <td>3</td>\n",
       "      <td>Gorillaz</td>\n",
       "      <td>https://open.spotify.com/artist/3AA28KZvwAUcZu...</td>\n",
       "      <td>On Melancholy Hill</td>\n",
       "      <td>Plastic Beach</td>\n",
       "      <td>album</td>\n",
       "      <td>spotify:track:0q6LuUqGLUiCPP1cbdwFs3</td>\n",
       "      <td>0.689</td>\n",
       "      <td>0.739</td>\n",
       "      <td>2.0</td>\n",
       "      <td>...</td>\n",
       "      <td>https://www.youtube.com/watch?v=04mfKJWDSzI</td>\n",
       "      <td>Gorillaz - On Melancholy Hill (Official Video)</td>\n",
       "      <td>Gorillaz</td>\n",
       "      <td>211754952.0</td>\n",
       "      <td>1788577.0</td>\n",
       "      <td>55229.0</td>\n",
       "      <td>Follow Gorillaz online:\\nhttp://gorillaz.com \\...</td>\n",
       "      <td>True</td>\n",
       "      <td>True</td>\n",
       "      <td>4.346636e+08</td>\n",
       "    </tr>\n",
       "    <tr>\n",
       "      <th>4</th>\n",
       "      <td>4</td>\n",
       "      <td>Gorillaz</td>\n",
       "      <td>https://open.spotify.com/artist/3AA28KZvwAUcZu...</td>\n",
       "      <td>Clint Eastwood</td>\n",
       "      <td>Gorillaz</td>\n",
       "      <td>album</td>\n",
       "      <td>spotify:track:7yMiX7n9SBvadzox8T5jzT</td>\n",
       "      <td>0.663</td>\n",
       "      <td>0.694</td>\n",
       "      <td>10.0</td>\n",
       "      <td>...</td>\n",
       "      <td>https://www.youtube.com/watch?v=1V_xRb0x9aw</td>\n",
       "      <td>Gorillaz - Clint Eastwood (Official Video)</td>\n",
       "      <td>Gorillaz</td>\n",
       "      <td>618480958.0</td>\n",
       "      <td>6197318.0</td>\n",
       "      <td>155930.0</td>\n",
       "      <td>The official music video for Gorillaz - Clint ...</td>\n",
       "      <td>True</td>\n",
       "      <td>True</td>\n",
       "      <td>6.172597e+08</td>\n",
       "    </tr>\n",
       "  </tbody>\n",
       "</table>\n",
       "<p>5 rows × 28 columns</p>\n",
       "</div>"
      ],
      "text/plain": [
       "   Unnamed: 0    Artist                                        Url_spotify  \\\n",
       "0           0  Gorillaz  https://open.spotify.com/artist/3AA28KZvwAUcZu...   \n",
       "1           1  Gorillaz  https://open.spotify.com/artist/3AA28KZvwAUcZu...   \n",
       "2           2  Gorillaz  https://open.spotify.com/artist/3AA28KZvwAUcZu...   \n",
       "3           3  Gorillaz  https://open.spotify.com/artist/3AA28KZvwAUcZu...   \n",
       "4           4  Gorillaz  https://open.spotify.com/artist/3AA28KZvwAUcZu...   \n",
       "\n",
       "                                           Track  \\\n",
       "0                                 Feel Good Inc.   \n",
       "1                                Rhinestone Eyes   \n",
       "2  New Gold (feat. Tame Impala and Bootie Brown)   \n",
       "3                             On Melancholy Hill   \n",
       "4                                 Clint Eastwood   \n",
       "\n",
       "                                           Album Album_type  \\\n",
       "0                                     Demon Days      album   \n",
       "1                                  Plastic Beach      album   \n",
       "2  New Gold (feat. Tame Impala and Bootie Brown)     single   \n",
       "3                                  Plastic Beach      album   \n",
       "4                                       Gorillaz      album   \n",
       "\n",
       "                                    Uri  Danceability  Energy   Key  ...  \\\n",
       "0  spotify:track:0d28khcov6AiegSCpG5TuT         0.818   0.705   6.0  ...   \n",
       "1  spotify:track:1foMv2HQwfQ2vntFf9HFeG         0.676   0.703   8.0  ...   \n",
       "2  spotify:track:64dLd6rVqDLtkXFYrEUHIU         0.695   0.923   1.0  ...   \n",
       "3  spotify:track:0q6LuUqGLUiCPP1cbdwFs3         0.689   0.739   2.0  ...   \n",
       "4  spotify:track:7yMiX7n9SBvadzox8T5jzT         0.663   0.694  10.0  ...   \n",
       "\n",
       "                                   Url_youtube  \\\n",
       "0  https://www.youtube.com/watch?v=HyHNuVaZJ-k   \n",
       "1  https://www.youtube.com/watch?v=yYDmaexVHic   \n",
       "2  https://www.youtube.com/watch?v=qJa-VFwPpYA   \n",
       "3  https://www.youtube.com/watch?v=04mfKJWDSzI   \n",
       "4  https://www.youtube.com/watch?v=1V_xRb0x9aw   \n",
       "\n",
       "                                               Title   Channel        Views  \\\n",
       "0         Gorillaz - Feel Good Inc. (Official Video)  Gorillaz  693555221.0   \n",
       "1  Gorillaz - Rhinestone Eyes [Storyboard Film] (...  Gorillaz   72011645.0   \n",
       "2  Gorillaz - New Gold ft. Tame Impala & Bootie B...  Gorillaz    8435055.0   \n",
       "3     Gorillaz - On Melancholy Hill (Official Video)  Gorillaz  211754952.0   \n",
       "4         Gorillaz - Clint Eastwood (Official Video)  Gorillaz  618480958.0   \n",
       "\n",
       "       Likes  Comments                                        Description  \\\n",
       "0  6220896.0  169907.0  Official HD Video for Gorillaz' fantastic trac...   \n",
       "1  1079128.0   31003.0  The official video for Gorillaz - Rhinestone E...   \n",
       "2   282142.0    7399.0  Gorillaz - New Gold ft. Tame Impala & Bootie B...   \n",
       "3  1788577.0   55229.0  Follow Gorillaz online:\\nhttp://gorillaz.com \\...   \n",
       "4  6197318.0  155930.0  The official music video for Gorillaz - Clint ...   \n",
       "\n",
       "   Licensed official_video        Stream  \n",
       "0      True           True  1.040235e+09  \n",
       "1      True           True  3.100837e+08  \n",
       "2      True           True  6.306347e+07  \n",
       "3      True           True  4.346636e+08  \n",
       "4      True           True  6.172597e+08  \n",
       "\n",
       "[5 rows x 28 columns]"
      ]
     },
     "execution_count": 4,
     "metadata": {},
     "output_type": "execute_result"
    }
   ],
   "source": [
    "df.head()"
   ]
  },
  {
   "cell_type": "code",
   "execution_count": 5,
   "id": "483f8d5f",
   "metadata": {},
   "outputs": [
    {
     "data": {
      "text/plain": [
       "Index(['Unnamed: 0', 'Artist', 'Url_spotify', 'Track', 'Album', 'Album_type',\n",
       "       'Uri', 'Danceability', 'Energy', 'Key', 'Loudness', 'Speechiness',\n",
       "       'Acousticness', 'Instrumentalness', 'Liveness', 'Valence', 'Tempo',\n",
       "       'Duration_ms', 'Url_youtube', 'Title', 'Channel', 'Views', 'Likes',\n",
       "       'Comments', 'Description', 'Licensed', 'official_video', 'Stream'],\n",
       "      dtype='object')"
      ]
     },
     "execution_count": 5,
     "metadata": {},
     "output_type": "execute_result"
    }
   ],
   "source": [
    "df.columns"
   ]
  },
  {
   "cell_type": "code",
   "execution_count": 6,
   "id": "04cc6995",
   "metadata": {},
   "outputs": [
    {
     "name": "stdout",
     "output_type": "stream",
     "text": [
      "<class 'pandas.core.frame.DataFrame'>\n",
      "RangeIndex: 20718 entries, 0 to 20717\n",
      "Data columns (total 28 columns):\n",
      " #   Column            Non-Null Count  Dtype  \n",
      "---  ------            --------------  -----  \n",
      " 0   Unnamed: 0        20718 non-null  int64  \n",
      " 1   Artist            20718 non-null  object \n",
      " 2   Url_spotify       20718 non-null  object \n",
      " 3   Track             20718 non-null  object \n",
      " 4   Album             20718 non-null  object \n",
      " 5   Album_type        20718 non-null  object \n",
      " 6   Uri               20718 non-null  object \n",
      " 7   Danceability      20716 non-null  float64\n",
      " 8   Energy            20716 non-null  float64\n",
      " 9   Key               20716 non-null  float64\n",
      " 10  Loudness          20716 non-null  float64\n",
      " 11  Speechiness       20716 non-null  float64\n",
      " 12  Acousticness      20716 non-null  float64\n",
      " 13  Instrumentalness  20716 non-null  float64\n",
      " 14  Liveness          20716 non-null  float64\n",
      " 15  Valence           20716 non-null  float64\n",
      " 16  Tempo             20716 non-null  float64\n",
      " 17  Duration_ms       20716 non-null  float64\n",
      " 18  Url_youtube       20248 non-null  object \n",
      " 19  Title             20248 non-null  object \n",
      " 20  Channel           20248 non-null  object \n",
      " 21  Views             20248 non-null  float64\n",
      " 22  Likes             20177 non-null  float64\n",
      " 23  Comments          20149 non-null  float64\n",
      " 24  Description       19842 non-null  object \n",
      " 25  Licensed          20248 non-null  object \n",
      " 26  official_video    20248 non-null  object \n",
      " 27  Stream            20142 non-null  float64\n",
      "dtypes: float64(15), int64(1), object(12)\n",
      "memory usage: 4.4+ MB\n"
     ]
    }
   ],
   "source": [
    "df.info()"
   ]
  },
  {
   "cell_type": "markdown",
   "id": "24c6af8e",
   "metadata": {},
   "source": [
    "#### Based on the above data, the following observations can be made:\n",
    "\n",
    "- The dataset contains 27 columns.\n",
    "- The number of data points in the dataset is 20,718\n",
    "- Some columns contain null values.\n",
    "- Data has 2 datatypes i.e float and object"
   ]
  },
  {
   "cell_type": "code",
   "execution_count": 8,
   "id": "fc97aaf8",
   "metadata": {},
   "outputs": [
    {
     "data": {
      "text/plain": [
       "Unnamed: 0            0\n",
       "Artist                0\n",
       "Url_spotify           0\n",
       "Track                 0\n",
       "Album                 0\n",
       "Album_type            0\n",
       "Uri                   0\n",
       "Danceability          2\n",
       "Energy                2\n",
       "Key                   2\n",
       "Loudness              2\n",
       "Speechiness           2\n",
       "Acousticness          2\n",
       "Instrumentalness      2\n",
       "Liveness              2\n",
       "Valence               2\n",
       "Tempo                 2\n",
       "Duration_ms           2\n",
       "Url_youtube         470\n",
       "Title               470\n",
       "Channel             470\n",
       "Views               470\n",
       "Likes               541\n",
       "Comments            569\n",
       "Description         876\n",
       "Licensed            470\n",
       "official_video      470\n",
       "Stream              576\n",
       "dtype: int64"
      ]
     },
     "execution_count": 8,
     "metadata": {},
     "output_type": "execute_result"
    }
   ],
   "source": [
    "df.isna().sum()"
   ]
  },
  {
   "cell_type": "markdown",
   "id": "59064e46",
   "metadata": {},
   "source": [
    "#### Handling missing values\n",
    "\n",
    "- Filling NA in likes with 0\n",
    "- Filling NA in comments with 0\n",
    "- Dropping other"
   ]
  },
  {
   "cell_type": "code",
   "execution_count": null,
   "id": "1a1e2b09",
   "metadata": {},
   "outputs": [],
   "source": [
    "# fill missing values in the 'Likes' column of a DataFrame (df) with the value 0.\n",
    "df['Likes'] = df['Likes'].fillna(0)\n",
    "\n",
    "# This line fills missing values in the 'Comments' column of the DataFrame (df) with the value 0.\n",
    "df['Comments'] = df['Comments'].fillna(0)\n",
    "\n",
    "# This line drops any rows containing missing values from the DataFrame (df) and modifies the DataFrame in place.\n",
    "df.dropna(inplace=True)"
   ]
  },
  {
   "cell_type": "code",
   "execution_count": 9,
   "id": "35fe6851",
   "metadata": {},
   "outputs": [
    {
     "data": {
      "text/html": [
       "<div>\n",
       "<style scoped>\n",
       "    .dataframe tbody tr th:only-of-type {\n",
       "        vertical-align: middle;\n",
       "    }\n",
       "\n",
       "    .dataframe tbody tr th {\n",
       "        vertical-align: top;\n",
       "    }\n",
       "\n",
       "    .dataframe thead th {\n",
       "        text-align: right;\n",
       "    }\n",
       "</style>\n",
       "<table border=\"1\" class=\"dataframe\">\n",
       "  <thead>\n",
       "    <tr style=\"text-align: right;\">\n",
       "      <th></th>\n",
       "      <th>Unnamed: 0</th>\n",
       "      <th>Danceability</th>\n",
       "      <th>Energy</th>\n",
       "      <th>Key</th>\n",
       "      <th>Loudness</th>\n",
       "      <th>Speechiness</th>\n",
       "      <th>Acousticness</th>\n",
       "      <th>Instrumentalness</th>\n",
       "      <th>Liveness</th>\n",
       "      <th>Valence</th>\n",
       "      <th>Tempo</th>\n",
       "      <th>Duration_ms</th>\n",
       "      <th>Views</th>\n",
       "      <th>Likes</th>\n",
       "      <th>Comments</th>\n",
       "      <th>Stream</th>\n",
       "    </tr>\n",
       "  </thead>\n",
       "  <tbody>\n",
       "    <tr>\n",
       "      <th>count</th>\n",
       "      <td>20718.000000</td>\n",
       "      <td>20716.000000</td>\n",
       "      <td>20716.000000</td>\n",
       "      <td>20716.000000</td>\n",
       "      <td>20716.000000</td>\n",
       "      <td>20716.000000</td>\n",
       "      <td>20716.000000</td>\n",
       "      <td>20716.000000</td>\n",
       "      <td>20716.000000</td>\n",
       "      <td>20716.000000</td>\n",
       "      <td>20716.000000</td>\n",
       "      <td>2.071600e+04</td>\n",
       "      <td>2.024800e+04</td>\n",
       "      <td>2.017700e+04</td>\n",
       "      <td>2.014900e+04</td>\n",
       "      <td>2.014200e+04</td>\n",
       "    </tr>\n",
       "    <tr>\n",
       "      <th>mean</th>\n",
       "      <td>10358.500000</td>\n",
       "      <td>0.619777</td>\n",
       "      <td>0.635250</td>\n",
       "      <td>5.300348</td>\n",
       "      <td>-7.671680</td>\n",
       "      <td>0.096456</td>\n",
       "      <td>0.291535</td>\n",
       "      <td>0.055962</td>\n",
       "      <td>0.193521</td>\n",
       "      <td>0.529853</td>\n",
       "      <td>120.638340</td>\n",
       "      <td>2.247176e+05</td>\n",
       "      <td>9.393782e+07</td>\n",
       "      <td>6.633411e+05</td>\n",
       "      <td>2.751899e+04</td>\n",
       "      <td>1.359422e+08</td>\n",
       "    </tr>\n",
       "    <tr>\n",
       "      <th>std</th>\n",
       "      <td>5980.915774</td>\n",
       "      <td>0.165272</td>\n",
       "      <td>0.214147</td>\n",
       "      <td>3.576449</td>\n",
       "      <td>4.632749</td>\n",
       "      <td>0.111960</td>\n",
       "      <td>0.286299</td>\n",
       "      <td>0.193262</td>\n",
       "      <td>0.168531</td>\n",
       "      <td>0.245441</td>\n",
       "      <td>29.579018</td>\n",
       "      <td>1.247905e+05</td>\n",
       "      <td>2.746443e+08</td>\n",
       "      <td>1.789324e+06</td>\n",
       "      <td>1.932347e+05</td>\n",
       "      <td>2.441321e+08</td>\n",
       "    </tr>\n",
       "    <tr>\n",
       "      <th>min</th>\n",
       "      <td>0.000000</td>\n",
       "      <td>0.000000</td>\n",
       "      <td>0.000020</td>\n",
       "      <td>0.000000</td>\n",
       "      <td>-46.251000</td>\n",
       "      <td>0.000000</td>\n",
       "      <td>0.000001</td>\n",
       "      <td>0.000000</td>\n",
       "      <td>0.014500</td>\n",
       "      <td>0.000000</td>\n",
       "      <td>0.000000</td>\n",
       "      <td>3.098500e+04</td>\n",
       "      <td>0.000000e+00</td>\n",
       "      <td>0.000000e+00</td>\n",
       "      <td>0.000000e+00</td>\n",
       "      <td>6.574000e+03</td>\n",
       "    </tr>\n",
       "    <tr>\n",
       "      <th>25%</th>\n",
       "      <td>5179.250000</td>\n",
       "      <td>0.518000</td>\n",
       "      <td>0.507000</td>\n",
       "      <td>2.000000</td>\n",
       "      <td>-8.858000</td>\n",
       "      <td>0.035700</td>\n",
       "      <td>0.045200</td>\n",
       "      <td>0.000000</td>\n",
       "      <td>0.094100</td>\n",
       "      <td>0.339000</td>\n",
       "      <td>97.002000</td>\n",
       "      <td>1.800095e+05</td>\n",
       "      <td>1.826002e+06</td>\n",
       "      <td>2.158100e+04</td>\n",
       "      <td>5.090000e+02</td>\n",
       "      <td>1.767486e+07</td>\n",
       "    </tr>\n",
       "    <tr>\n",
       "      <th>50%</th>\n",
       "      <td>10358.500000</td>\n",
       "      <td>0.637000</td>\n",
       "      <td>0.666000</td>\n",
       "      <td>5.000000</td>\n",
       "      <td>-6.536000</td>\n",
       "      <td>0.050500</td>\n",
       "      <td>0.193000</td>\n",
       "      <td>0.000002</td>\n",
       "      <td>0.125000</td>\n",
       "      <td>0.537000</td>\n",
       "      <td>119.965000</td>\n",
       "      <td>2.132845e+05</td>\n",
       "      <td>1.450110e+07</td>\n",
       "      <td>1.244810e+05</td>\n",
       "      <td>3.277000e+03</td>\n",
       "      <td>4.968298e+07</td>\n",
       "    </tr>\n",
       "    <tr>\n",
       "      <th>75%</th>\n",
       "      <td>15537.750000</td>\n",
       "      <td>0.740250</td>\n",
       "      <td>0.798000</td>\n",
       "      <td>8.000000</td>\n",
       "      <td>-4.931000</td>\n",
       "      <td>0.103000</td>\n",
       "      <td>0.477250</td>\n",
       "      <td>0.000463</td>\n",
       "      <td>0.237000</td>\n",
       "      <td>0.726250</td>\n",
       "      <td>139.935000</td>\n",
       "      <td>2.524430e+05</td>\n",
       "      <td>7.039975e+07</td>\n",
       "      <td>5.221480e+05</td>\n",
       "      <td>1.436000e+04</td>\n",
       "      <td>1.383581e+08</td>\n",
       "    </tr>\n",
       "    <tr>\n",
       "      <th>max</th>\n",
       "      <td>20717.000000</td>\n",
       "      <td>0.975000</td>\n",
       "      <td>1.000000</td>\n",
       "      <td>11.000000</td>\n",
       "      <td>0.920000</td>\n",
       "      <td>0.964000</td>\n",
       "      <td>0.996000</td>\n",
       "      <td>1.000000</td>\n",
       "      <td>1.000000</td>\n",
       "      <td>0.993000</td>\n",
       "      <td>243.372000</td>\n",
       "      <td>4.676058e+06</td>\n",
       "      <td>8.079649e+09</td>\n",
       "      <td>5.078865e+07</td>\n",
       "      <td>1.608314e+07</td>\n",
       "      <td>3.386520e+09</td>\n",
       "    </tr>\n",
       "  </tbody>\n",
       "</table>\n",
       "</div>"
      ],
      "text/plain": [
       "         Unnamed: 0  Danceability        Energy           Key      Loudness  \\\n",
       "count  20718.000000  20716.000000  20716.000000  20716.000000  20716.000000   \n",
       "mean   10358.500000      0.619777      0.635250      5.300348     -7.671680   \n",
       "std     5980.915774      0.165272      0.214147      3.576449      4.632749   \n",
       "min        0.000000      0.000000      0.000020      0.000000    -46.251000   \n",
       "25%     5179.250000      0.518000      0.507000      2.000000     -8.858000   \n",
       "50%    10358.500000      0.637000      0.666000      5.000000     -6.536000   \n",
       "75%    15537.750000      0.740250      0.798000      8.000000     -4.931000   \n",
       "max    20717.000000      0.975000      1.000000     11.000000      0.920000   \n",
       "\n",
       "        Speechiness  Acousticness  Instrumentalness      Liveness  \\\n",
       "count  20716.000000  20716.000000      20716.000000  20716.000000   \n",
       "mean       0.096456      0.291535          0.055962      0.193521   \n",
       "std        0.111960      0.286299          0.193262      0.168531   \n",
       "min        0.000000      0.000001          0.000000      0.014500   \n",
       "25%        0.035700      0.045200          0.000000      0.094100   \n",
       "50%        0.050500      0.193000          0.000002      0.125000   \n",
       "75%        0.103000      0.477250          0.000463      0.237000   \n",
       "max        0.964000      0.996000          1.000000      1.000000   \n",
       "\n",
       "            Valence         Tempo   Duration_ms         Views         Likes  \\\n",
       "count  20716.000000  20716.000000  2.071600e+04  2.024800e+04  2.017700e+04   \n",
       "mean       0.529853    120.638340  2.247176e+05  9.393782e+07  6.633411e+05   \n",
       "std        0.245441     29.579018  1.247905e+05  2.746443e+08  1.789324e+06   \n",
       "min        0.000000      0.000000  3.098500e+04  0.000000e+00  0.000000e+00   \n",
       "25%        0.339000     97.002000  1.800095e+05  1.826002e+06  2.158100e+04   \n",
       "50%        0.537000    119.965000  2.132845e+05  1.450110e+07  1.244810e+05   \n",
       "75%        0.726250    139.935000  2.524430e+05  7.039975e+07  5.221480e+05   \n",
       "max        0.993000    243.372000  4.676058e+06  8.079649e+09  5.078865e+07   \n",
       "\n",
       "           Comments        Stream  \n",
       "count  2.014900e+04  2.014200e+04  \n",
       "mean   2.751899e+04  1.359422e+08  \n",
       "std    1.932347e+05  2.441321e+08  \n",
       "min    0.000000e+00  6.574000e+03  \n",
       "25%    5.090000e+02  1.767486e+07  \n",
       "50%    3.277000e+03  4.968298e+07  \n",
       "75%    1.436000e+04  1.383581e+08  \n",
       "max    1.608314e+07  3.386520e+09  "
      ]
     },
     "execution_count": 9,
     "metadata": {},
     "output_type": "execute_result"
    }
   ],
   "source": [
    "df.describe()"
   ]
  },
  {
   "cell_type": "markdown",
   "id": "a91ca159",
   "metadata": {},
   "source": [
    "### Exploring Album type"
   ]
  },
  {
   "cell_type": "code",
   "execution_count": 10,
   "id": "c1714a21",
   "metadata": {},
   "outputs": [
    {
     "name": "stdout",
     "output_type": "stream",
     "text": [
      "album          14926\n",
      "single          5004\n",
      "compilation      788\n",
      "Name: Album_type, dtype: int64\n"
     ]
    }
   ],
   "source": [
    "album_type_count = df['Album_type'].value_counts()\n",
    "print(album_type_count)"
   ]
  },
  {
   "cell_type": "code",
   "execution_count": 11,
   "id": "9d88fe26",
   "metadata": {},
   "outputs": [
    {
     "data": {
      "image/png": "[encoded data removed]",
      "text/plain": [
       "<Figure size 432x288 with 1 Axes>"
      ]
     },
     "metadata": {},
     "output_type": "display_data"
    }
   ],
   "source": [
    "# Create a pie chart\n",
    "labels = album_type_count.index.tolist()\n",
    "sizes = album_type_count.values.tolist()\n",
    "plt.pie(sizes, labels=labels, autopct='%1.1f%%', startangle=90)\n",
    "\n",
    "plt.title('Album Types')\n",
    "plt.legend(labels, loc='best')\n",
    "\n",
    "plt.show()"
   ]
  },
  {
   "cell_type": "markdown",
   "id": "e10cf7ab",
   "metadata": {},
   "source": [
    "#### From the above pie chat we can make the following conclusions\n",
    "\n",
    "**Album type is the most popular: The data shows that the album type has a significantly higher number of views compared to the other types (compilation and single).**\n",
    "\n",
    "**Singles are more popular than compilations: Although albums are the most popular, the data also shows that singles generate more views compared to compilations. This could indicate that listeners prefer individual songs rather than compilations of songs by different artists.**"
   ]
  },
  {
   "cell_type": "markdown",
   "id": "b8fa4ab1",
   "metadata": {},
   "source": [
    "### Analyzing songs by artist and views - youtube, stream - spotify"
   ]
  },
  {
   "cell_type": "code",
   "execution_count": 12,
   "id": "7812b342",
   "metadata": {},
   "outputs": [
    {
     "data": {
      "text/html": [
       "<div>\n",
       "<style scoped>\n",
       "    .dataframe tbody tr th:only-of-type {\n",
       "        vertical-align: middle;\n",
       "    }\n",
       "\n",
       "    .dataframe tbody tr th {\n",
       "        vertical-align: top;\n",
       "    }\n",
       "\n",
       "    .dataframe thead th {\n",
       "        text-align: right;\n",
       "    }\n",
       "</style>\n",
       "<table border=\"1\" class=\"dataframe\">\n",
       "  <thead>\n",
       "    <tr style=\"text-align: right;\">\n",
       "      <th></th>\n",
       "      <th>Views</th>\n",
       "      <th>Stream</th>\n",
       "    </tr>\n",
       "    <tr>\n",
       "      <th>Artist</th>\n",
       "      <th></th>\n",
       "      <th></th>\n",
       "    </tr>\n",
       "  </thead>\n",
       "  <tbody>\n",
       "    <tr>\n",
       "      <th>Ed Sheeran</th>\n",
       "      <td>1.546021e+10</td>\n",
       "      <td>1.439488e+10</td>\n",
       "    </tr>\n",
       "    <tr>\n",
       "      <th>CoComelon</th>\n",
       "      <td>1.460167e+10</td>\n",
       "      <td>3.690822e+08</td>\n",
       "    </tr>\n",
       "    <tr>\n",
       "      <th>Katy Perry</th>\n",
       "      <td>1.312063e+10</td>\n",
       "      <td>6.607329e+09</td>\n",
       "    </tr>\n",
       "    <tr>\n",
       "      <th>Charlie Puth</th>\n",
       "      <td>1.216759e+10</td>\n",
       "      <td>7.041187e+09</td>\n",
       "    </tr>\n",
       "    <tr>\n",
       "      <th>Luis Fonsi</th>\n",
       "      <td>1.162811e+10</td>\n",
       "      <td>5.054326e+09</td>\n",
       "    </tr>\n",
       "    <tr>\n",
       "      <th>Justin Bieber</th>\n",
       "      <td>1.099106e+10</td>\n",
       "      <td>1.209777e+10</td>\n",
       "    </tr>\n",
       "    <tr>\n",
       "      <th>Daddy Yankee</th>\n",
       "      <td>1.087193e+10</td>\n",
       "      <td>5.135462e+09</td>\n",
       "    </tr>\n",
       "    <tr>\n",
       "      <th>Bruno Mars</th>\n",
       "      <td>1.024092e+10</td>\n",
       "      <td>1.089786e+10</td>\n",
       "    </tr>\n",
       "    <tr>\n",
       "      <th>Macklemore &amp; Ryan Lewis</th>\n",
       "      <td>1.012206e+10</td>\n",
       "      <td>3.982978e+09</td>\n",
       "    </tr>\n",
       "    <tr>\n",
       "      <th>Coldplay</th>\n",
       "      <td>9.997278e+09</td>\n",
       "      <td>1.177848e+10</td>\n",
       "    </tr>\n",
       "  </tbody>\n",
       "</table>\n",
       "</div>"
      ],
      "text/plain": [
       "                                Views        Stream\n",
       "Artist                                             \n",
       "Ed Sheeran               1.546021e+10  1.439488e+10\n",
       "CoComelon                1.460167e+10  3.690822e+08\n",
       "Katy Perry               1.312063e+10  6.607329e+09\n",
       "Charlie Puth             1.216759e+10  7.041187e+09\n",
       "Luis Fonsi               1.162811e+10  5.054326e+09\n",
       "Justin Bieber            1.099106e+10  1.209777e+10\n",
       "Daddy Yankee             1.087193e+10  5.135462e+09\n",
       "Bruno Mars               1.024092e+10  1.089786e+10\n",
       "Macklemore & Ryan Lewis  1.012206e+10  3.982978e+09\n",
       "Coldplay                 9.997278e+09  1.177848e+10"
      ]
     },
     "execution_count": 12,
     "metadata": {},
     "output_type": "execute_result"
    }
   ],
   "source": [
    "# Group the songs by artist and views - youtube, stream - spotify\n",
    "artist_grouped = df.groupby('Artist')[['Views', 'Stream']].sum()\n",
    "\n",
    "# Sort the artists by the sum of views and streams in descending order\n",
    "artist_sorted = artist_grouped.sort_values(['Views', 'Stream'], ascending=False)\n",
    "\n",
    "# Get the top 10 artists with the most number of views on YouTube and streams on Spotify\n",
    "top_10 = artist_sorted.head(10)\n",
    "\n",
    "top_10"
   ]
  },
  {
   "cell_type": "code",
   "execution_count": 13,
   "id": "d8552051",
   "metadata": {},
   "outputs": [
    {
     "data": {
      "image/png": "[encoded data removed]",
      "text/plain": [
       "<Figure size 864x432 with 2 Axes>"
      ]
     },
     "metadata": {
      "needs_background": "light"
     },
     "output_type": "display_data"
    }
   ],
   "source": [
    "# Create two separate DataFrames for views and streams\n",
    "df_views = df.groupby('Artist')['Views'].sum().sort_values(ascending=False)[:10]\n",
    "df_streams = df.groupby('Artist')['Stream'].sum().sort_values(ascending=False)[:10]\n",
    "\n",
    "fig, (ax1, ax2) = plt.subplots(1, 2, figsize=(12,6))\n",
    "\n",
    "# top 10 yt\n",
    "ax1.set_title('Top 10 Artists on YouTube')\n",
    "df_views.plot(kind='bar', ax=ax1)\n",
    "\n",
    "# top 10 spotofy\n",
    "ax2.set_title('Top 10 Artists on Spotify')\n",
    "df_streams.plot(kind='bar', ax=ax2)\n",
    "\n",
    "ax1.set_xlabel('Artist')\n",
    "ax1.set_ylabel('Views')\n",
    "ax2.set_xlabel('Artist')\n",
    "ax2.set_ylabel('Streams')\n",
    "fig.tight_layout()\n",
    "plt.show()"
   ]
  },
  {
   "cell_type": "markdown",
   "id": "b094b93a",
   "metadata": {},
   "source": [
    "**Ed Sheeran was the most viewed artist, with 15 billion views on youtube. CoComelon and Katy Perry are the second and third most viewed artists with 14 billion and 13 billion views, respectively. Charlie Puth and Luis Fonsi complete the top five artists with 12 billion and 11 billion views, respectively.**\n",
    "\n",
    "**While on Spotify Post Malone was the most streamed artist, with 15 billion.Next Ed Shreeran is streamed about 14 billion. Dua Lipa and XXXTENTACION are the third and fourth most streamed artists with 13.5 billion and 13 billion, respectively. Yhe Weeknd is on fifth place by 13 billion streams.**\n",
    "\n",
    "**These figures highlight the popularity of these artists and their music on the different online platforms.**"
   ]
  },
  {
   "cell_type": "markdown",
   "id": "d5d73063",
   "metadata": {},
   "source": [
    "### Analyzing Top 10 songs on the basis of views, comments and like"
   ]
  },
  {
   "cell_type": "code",
   "execution_count": 14,
   "id": "26cdb8f0",
   "metadata": {},
   "outputs": [],
   "source": [
    "# Top 10 songs based on views\n",
    "top10_views = df.nlargest(10, 'Views')\n",
    "\n",
    "# Top 10 songs based on comments\n",
    "top10_comments = df.nlargest(10, 'Comments')\n",
    "\n",
    "# Top 10 songs based on likes\n",
    "top10_likes = df.nlargest(10, 'Likes')"
   ]
  },
  {
   "cell_type": "code",
   "execution_count": 15,
   "id": "e75fea8d",
   "metadata": {},
   "outputs": [
    {
     "name": "stderr",
     "output_type": "stream",
     "text": [
      "C:\\Users\\User\\anaconda3\\lib\\site-packages\\matplotlib\\backends\\backend_agg.py:240: RuntimeWarning: Glyph 44053 missing from current font.\n",
      "  font.set_text(s, 0.0, flags=flags)\n",
      "C:\\Users\\User\\anaconda3\\lib\\site-packages\\matplotlib\\backends\\backend_agg.py:240: RuntimeWarning: Glyph 45224 missing from current font.\n",
      "  font.set_text(s, 0.0, flags=flags)\n",
      "C:\\Users\\User\\anaconda3\\lib\\site-packages\\matplotlib\\backends\\backend_agg.py:240: RuntimeWarning: Glyph 49828 missing from current font.\n",
      "  font.set_text(s, 0.0, flags=flags)\n",
      "C:\\Users\\User\\anaconda3\\lib\\site-packages\\matplotlib\\backends\\backend_agg.py:240: RuntimeWarning: Glyph 53440 missing from current font.\n",
      "  font.set_text(s, 0.0, flags=flags)\n",
      "C:\\Users\\User\\anaconda3\\lib\\site-packages\\matplotlib\\backends\\backend_agg.py:240: RuntimeWarning: Glyph 51068 missing from current font.\n",
      "  font.set_text(s, 0.0, flags=flags)\n",
      "C:\\Users\\User\\anaconda3\\lib\\site-packages\\matplotlib\\backends\\backend_agg.py:203: RuntimeWarning: Glyph 44053 missing from current font.\n",
      "  font.set_text(s, 0, flags=flags)\n",
      "C:\\Users\\User\\anaconda3\\lib\\site-packages\\matplotlib\\backends\\backend_agg.py:203: RuntimeWarning: Glyph 45224 missing from current font.\n",
      "  font.set_text(s, 0, flags=flags)\n",
      "C:\\Users\\User\\anaconda3\\lib\\site-packages\\matplotlib\\backends\\backend_agg.py:203: RuntimeWarning: Glyph 49828 missing from current font.\n",
      "  font.set_text(s, 0, flags=flags)\n",
      "C:\\Users\\User\\anaconda3\\lib\\site-packages\\matplotlib\\backends\\backend_agg.py:203: RuntimeWarning: Glyph 53440 missing from current font.\n",
      "  font.set_text(s, 0, flags=flags)\n",
      "C:\\Users\\User\\anaconda3\\lib\\site-packages\\matplotlib\\backends\\backend_agg.py:203: RuntimeWarning: Glyph 51068 missing from current font.\n",
      "  font.set_text(s, 0, flags=flags)\n"
     ]
    },
    {
     "data": {
      "image/png": "[encoded data removed]",
      "text/plain": [
       "<Figure size 432x288 with 1 Axes>"
      ]
     },
     "metadata": {
      "needs_background": "light"
     },
     "output_type": "display_data"
    },
    {
     "data": {
      "image/png": "[encoded data removed]",
      "text/plain": [
       "<Figure size 432x288 with 1 Axes>"
      ]
     },
     "metadata": {
      "needs_background": "light"
     },
     "output_type": "display_data"
    },
    {
     "data": {
      "image/png": "[encoded data removed]",
      "text/plain": [
       "<Figure size 432x288 with 1 Axes>"
      ]
     },
     "metadata": {
      "needs_background": "light"
     },
     "output_type": "display_data"
    }
   ],
   "source": [
    "# Top 10 songs with most views\n",
    "top10_views.plot(kind='barh', x='Track', y='Views', title='Top 10 songs with most views')\n",
    "\n",
    "# Top 10 songs with most comments\n",
    "top10_views.plot(kind='barh', x='Track', y='Comments', title='Top 10 songs with most comments')\n",
    "\n",
    "# Top 10 songs with most likes\n",
    "top10_views.plot(kind='barh', x='Track', y='Likes', title='Top 10 songs with most likes')\n",
    "plt.show()"
   ]
  },
  {
   "cell_type": "markdown",
   "id": "6decfdbf",
   "metadata": {},
   "source": [
    "**As we can see that Despacito is the most liked, viewed and commented music and is popular among 80 million people and 50 million people liked it.Then Shape of you is next by 30 million likes.**"
   ]
  },
  {
   "cell_type": "markdown",
   "id": "7bf0149a",
   "metadata": {},
   "source": [
    "#### Analyzing songs on the basis of Energy and Danceability"
   ]
  },
  {
   "cell_type": "code",
   "execution_count": 16,
   "id": "21351414",
   "metadata": {},
   "outputs": [
    {
     "data": {
      "text/html": [
       "<div>\n",
       "<style scoped>\n",
       "    .dataframe tbody tr th:only-of-type {\n",
       "        vertical-align: middle;\n",
       "    }\n",
       "\n",
       "    .dataframe tbody tr th {\n",
       "        vertical-align: top;\n",
       "    }\n",
       "\n",
       "    .dataframe thead th {\n",
       "        text-align: right;\n",
       "    }\n",
       "</style>\n",
       "<table border=\"1\" class=\"dataframe\">\n",
       "  <thead>\n",
       "    <tr style=\"text-align: right;\">\n",
       "      <th></th>\n",
       "      <th>Track</th>\n",
       "      <th>Energy</th>\n",
       "      <th>Danceability</th>\n",
       "      <th>Acousticness</th>\n",
       "    </tr>\n",
       "  </thead>\n",
       "  <tbody>\n",
       "    <tr>\n",
       "      <th>15250</th>\n",
       "      <td>Blinding Lights</td>\n",
       "      <td>0.730</td>\n",
       "      <td>0.514</td>\n",
       "      <td>0.00146</td>\n",
       "    </tr>\n",
       "    <tr>\n",
       "      <th>12452</th>\n",
       "      <td>Shape of You</td>\n",
       "      <td>0.652</td>\n",
       "      <td>0.825</td>\n",
       "      <td>0.58100</td>\n",
       "    </tr>\n",
       "    <tr>\n",
       "      <th>19186</th>\n",
       "      <td>Someone You Loved</td>\n",
       "      <td>0.405</td>\n",
       "      <td>0.501</td>\n",
       "      <td>0.75100</td>\n",
       "    </tr>\n",
       "    <tr>\n",
       "      <th>17937</th>\n",
       "      <td>rockstar (feat. 21 Savage)</td>\n",
       "      <td>0.520</td>\n",
       "      <td>0.585</td>\n",
       "      <td>0.12400</td>\n",
       "    </tr>\n",
       "    <tr>\n",
       "      <th>17445</th>\n",
       "      <td>Sunflower - Spider-Man: Into the Spider-Verse</td>\n",
       "      <td>0.522</td>\n",
       "      <td>0.755</td>\n",
       "      <td>0.53300</td>\n",
       "    </tr>\n",
       "    <tr>\n",
       "      <th>17938</th>\n",
       "      <td>Sunflower - Spider-Man: Into the Spider-Verse</td>\n",
       "      <td>0.522</td>\n",
       "      <td>0.755</td>\n",
       "      <td>0.53300</td>\n",
       "    </tr>\n",
       "    <tr>\n",
       "      <th>13503</th>\n",
       "      <td>One Dance</td>\n",
       "      <td>0.625</td>\n",
       "      <td>0.792</td>\n",
       "      <td>0.00776</td>\n",
       "    </tr>\n",
       "    <tr>\n",
       "      <th>16099</th>\n",
       "      <td>Closer</td>\n",
       "      <td>0.524</td>\n",
       "      <td>0.748</td>\n",
       "      <td>0.41400</td>\n",
       "    </tr>\n",
       "    <tr>\n",
       "      <th>16028</th>\n",
       "      <td>Closer</td>\n",
       "      <td>0.524</td>\n",
       "      <td>0.748</td>\n",
       "      <td>0.41400</td>\n",
       "    </tr>\n",
       "    <tr>\n",
       "      <th>14030</th>\n",
       "      <td>Believer</td>\n",
       "      <td>0.780</td>\n",
       "      <td>0.776</td>\n",
       "      <td>0.06220</td>\n",
       "    </tr>\n",
       "  </tbody>\n",
       "</table>\n",
       "</div>"
      ],
      "text/plain": [
       "                                               Track  Energy  Danceability  \\\n",
       "15250                                Blinding Lights   0.730         0.514   \n",
       "12452                                   Shape of You   0.652         0.825   \n",
       "19186                              Someone You Loved   0.405         0.501   \n",
       "17937                     rockstar (feat. 21 Savage)   0.520         0.585   \n",
       "17445  Sunflower - Spider-Man: Into the Spider-Verse   0.522         0.755   \n",
       "17938  Sunflower - Spider-Man: Into the Spider-Verse   0.522         0.755   \n",
       "13503                                      One Dance   0.625         0.792   \n",
       "16099                                         Closer   0.524         0.748   \n",
       "16028                                         Closer   0.524         0.748   \n",
       "14030                                       Believer   0.780         0.776   \n",
       "\n",
       "       Acousticness  \n",
       "15250       0.00146  \n",
       "12452       0.58100  \n",
       "19186       0.75100  \n",
       "17937       0.12400  \n",
       "17445       0.53300  \n",
       "17938       0.53300  \n",
       "13503       0.00776  \n",
       "16099       0.41400  \n",
       "16028       0.41400  \n",
       "14030       0.06220  "
      ]
     },
     "execution_count": 16,
     "metadata": {},
     "output_type": "execute_result"
    }
   ],
   "source": [
    "top_songs = df.sort_values('Stream', ascending=False).head(10)\n",
    "top_songs[['Track', 'Energy', 'Danceability', 'Acousticness']]"
   ]
  },
  {
   "cell_type": "code",
   "execution_count": 17,
   "id": "4c0bb878",
   "metadata": {},
   "outputs": [
    {
     "data": {
      "image/png": "[encoded data removed]",
      "text/plain": [
       "<Figure size 720x360 with 1 Axes>"
      ]
     },
     "metadata": {},
     "output_type": "display_data"
    }
   ],
   "source": [
    "top_songs_melt = top_songs.melt(id_vars=['Track'], value_vars=['Energy', 'Danceability', 'Acousticness'],\n",
    "                                var_name='Attribute', value_name='Value')\n",
    "\n",
    "sns.set_style('whitegrid')\n",
    "sns.catplot(x='Track', y='Value', hue='Attribute', data=top_songs_melt, kind='bar',\n",
    "            palette={'Energy': 'blue', 'Danceability': 'orange', 'Acousticness': 'green'},\n",
    "            aspect=2, legend=False)\n",
    "\n",
    "\n",
    "plt.legend(loc='upper right', bbox_to_anchor=(1.25, 1))\n",
    "plt.title('Top 10 Songs by Stream')\n",
    "plt.xlabel('Track')\n",
    "plt.ylabel('Value')\n",
    "\n",
    "plt.xticks(rotation=90)\n",
    "plt.show()"
   ]
  },
  {
   "cell_type": "markdown",
   "id": "c116d705",
   "metadata": {},
   "source": [
    "**Songs with dance beats and high energy are more popular among people**"
   ]
  },
  {
   "cell_type": "markdown",
   "id": "611c2566",
   "metadata": {},
   "source": [
    "### Determining the top 10 artists on the Spotify platform whose songs have more likes."
   ]
  },
  {
   "cell_type": "code",
   "execution_count": 19,
   "id": "2354eb42",
   "metadata": {},
   "outputs": [],
   "source": [
    "#Making the column \"Artist\" as the index\n",
    "df_artist = df.set_index(\"Artist\")\n",
    "df_artist = df_artist[[\"Danceability\",\"Views\",\"Likes\",\"Album_type\"]]"
   ]
  },
  {
   "cell_type": "code",
   "execution_count": 20,
   "id": "ab802dd9",
   "metadata": {},
   "outputs": [
    {
     "data": {
      "image/png": "[encoded data removed]",
      "text/plain": [
       "<Figure size 432x288 with 1 Axes>"
      ]
     },
     "metadata": {},
     "output_type": "display_data"
    }
   ],
   "source": [
    "# Group the data by artist and calculate the mean danceability score\n",
    "df_artist_grouped = df_artist.groupby('Artist')['Likes'].sum().reset_index()\n",
    "# Sort the dataframe by danceability score in descending order\n",
    "df_artist_sorted = df_artist_grouped.sort_values(by='Likes', ascending=False)\n",
    "# Select the top 10 artists with the highest danceability scores\n",
    "top_10_artists = df_artist_sorted.head(10)\n",
    "# Create a horizontal bar plot using seaborn\n",
    "sns.barplot(x='Likes', y='Artist', data=top_10_artists)\n",
    "# Set the axis labels and title\n",
    "plt.xlabel('Number of Likes')\n",
    "plt.ylabel('Artist')\n",
    "plt.title('Number of Likes per Artist')\n",
    "# Show the plot\n",
    "plt.show()"
   ]
  },
  {
   "cell_type": "markdown",
   "id": "5546e237",
   "metadata": {},
   "source": [
    "**BTS and Blackpink are the most popular artist**"
   ]
  },
  {
   "cell_type": "markdown",
   "id": "021a9a80",
   "metadata": {},
   "source": [
    "### Exploring Single Releases by Artists: Identifying Top Performers Based on Likes"
   ]
  },
  {
   "cell_type": "code",
   "execution_count": 21,
   "id": "2a480b87",
   "metadata": {},
   "outputs": [
    {
     "name": "stdout",
     "output_type": "stream",
     "text": [
      "                       Views       Likes\n",
      "Artist                                  \n",
      "BLACKPINK       7.329516e+09  82959030.0\n",
      "Wiz Khalifa     6.761550e+09  47790517.0\n",
      "Charlie Puth    5.870179e+09  41746947.0\n",
      "Jubin Nautiyal  4.525859e+09  39238542.0\n",
      "Lil Nas X       3.031660e+09  39103751.0\n",
      "Marshmello      2.927575e+09  35843277.0\n",
      "Billie Eilish   2.435116e+09  35590580.0\n",
      "Bizarrap        1.719856e+09  33922836.0\n",
      "Selena Gomez    3.589047e+09  33409887.0\n",
      "Ozuna           5.296919e+09  33337259.0\n"
     ]
    }
   ],
   "source": [
    "# filter the data to select only singles\n",
    "singles = df[df[\"Album_type\"] == \"single\"]\n",
    "# group the data by artist and calculate the total views and likes\n",
    "grouped = singles.groupby(\"Artist\").agg({\"Views\": \"sum\", \"Likes\": \"sum\"})\n",
    "# sort the data based on likes and select the top 3 artists\n",
    "top_10_artists = grouped.sort_values(\"Likes\", ascending=False).head(10)\n",
    "print(top_10_artists)"
   ]
  },
  {
   "cell_type": "markdown",
   "id": "2d469a06",
   "metadata": {},
   "source": [
    "**BLACKPINK was the most viewed and most liked artist, with 7.3 billion views and over 82 million likes. Wiz Khalifa and Charlie Puth are the second and third most viewed artists with 6.8 billion and 5.9 billion views, respectively. Jubin Nautiyal and Lil Nas X complete the top five artists with 4.5 billion and 3 billion views, respectively. Marshmello, Billie Eilish, and Bizarrap occupy positions six to eight, with 2.9 billion, 2.4 billion, and 1.7 billion views, respectively.These figures highlight the popularity of these artists and their music, as well as the significant role of online video platforms in promoting and distributing music.**"
   ]
  },
  {
   "cell_type": "markdown",
   "id": "4f75849b",
   "metadata": {},
   "source": [
    "### Exploring compilation Releases by Artists: Identifying Top Performers Based on Likes"
   ]
  },
  {
   "cell_type": "code",
   "execution_count": 22,
   "id": "b2416063",
   "metadata": {},
   "outputs": [
    {
     "name": "stdout",
     "output_type": "stream",
     "text": [
      "                           Views       Likes\n",
      "Artist                                      \n",
      "Shakira             3.463816e+09  20327883.0\n",
      "Ellie Goulding      2.283748e+09  12418131.0\n",
      "Dove Cameron        1.791463e+09  12002533.0\n",
      "Earth, Wind & Fire  1.282815e+09   9609744.0\n",
      "Idina Menzel        1.876739e+09   9018477.0\n",
      "DJ Luian            1.586162e+09   8457661.0\n",
      "Mambo Kingz         1.586162e+09   8457653.0\n",
      "PSY                 1.539136e+09   8084738.0\n",
      "George Michael      1.162993e+09   7481064.0\n",
      "Annie Lennox        8.638141e+08   7282923.0\n"
     ]
    }
   ],
   "source": [
    "# filter the data to select only singles\n",
    "singles = df[df[\"Album_type\"] == \"compilation\"]\n",
    "# group the data by artist and calculate the total views and likes\n",
    "grouped = singles.groupby(\"Artist\").agg({\"Views\": \"sum\", \"Likes\": \"sum\"})\n",
    "# sort the data based on likes and select the top 3 artists\n",
    "top_10_artists = grouped.sort_values(\"Likes\", ascending=False).head(10)\n",
    "print(top_10_artists)"
   ]
  },
  {
   "cell_type": "markdown",
   "id": "1f9432bb",
   "metadata": {},
   "source": [
    "**In compilation ablum type Shakira is most viewed artist followed by Ellie Goulding and Dove Cameron**"
   ]
  },
  {
   "cell_type": "markdown",
   "id": "cc79c961",
   "metadata": {},
   "source": [
    "### Identifying the top 10 channels based on views"
   ]
  },
  {
   "cell_type": "code",
   "execution_count": 23,
   "id": "6c2e68f9",
   "metadata": {},
   "outputs": [
    {
     "data": {
      "image/png": "[encoded data removed]",
      "text/plain": [
       "<Figure size 432x288 with 1 Axes>"
      ]
     },
     "metadata": {},
     "output_type": "display_data"
    }
   ],
   "source": [
    "df_channels = df.groupby(\"Channel\")[\"Views\"].sum().reset_index()\n",
    "df_sort_channels = df_channels.sort_values(\"Views\", ascending=False).head(10)\n",
    "sns.set_style(\"whitegrid\")\n",
    "sns.barplot(x=\"Views\", y=\"Channel\", data=df_sort_channels, color='b')\n",
    "sns.despine(left=True)\n",
    "plt.title('Top Spotify Channels by Views')\n",
    "plt.xlabel('Views')\n",
    "plt.ylabel('Channel')\n",
    "plt.show()"
   ]
  },
  {
   "cell_type": "markdown",
   "id": "a4365f09",
   "metadata": {},
   "source": [
    "**T-Series is most popular channel with 50 billion views.LuisFonsiVEVO, CalvinHarrisVEVO, Macklemore and Ed Shreean are also part of top 5.**"
   ]
  },
  {
   "cell_type": "code",
   "execution_count": null,
   "id": "bce11dbd",
   "metadata": {},
   "outputs": [],
   "source": []
  }
 ],
 "metadata": {
  "kernelspec": {
   "display_name": "Python 3 (ipykernel)",
   "language": "python",
   "name": "python3"
  },
  "language_info": {
   "codemirror_mode": {
    "name": "ipython",
    "version": 3
   },
   "file_extension": ".py",
   "mimetype": "text/x-python",
   "name": "python",
   "nbconvert_exporter": "python",
   "pygments_lexer": "ipython3",
   "version": "3.9.7"
  }
 },
 "nbformat": 4,
 "nbformat_minor": 5
}
